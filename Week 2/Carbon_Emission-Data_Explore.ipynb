{
 "cells": [
  {
   "cell_type": "code",
   "execution_count": null,
   "id": "34622be3-29dd-4b35-a716-8e7a79082345",
   "metadata": {},
   "outputs": [],
   "source": [
    "# import all needed libraries\n",
    "import numpy as np\n",
    "import pandas as pd\n",
    "import seaborn as sns\n",
    "import matplotlib.pyplot as plt\n",
    "from statsmodels.stats.outliers_influence import variance_inflation_factor\n",
    "\n",
    "\n",
    "# import the cleaned dataset from a csv file\n",
    "data = pd.read_csv(r'data_cleaned.csv')"
   ]
  },
  {
   "cell_type": "code",
   "execution_count": null,
   "id": "94c8df43-baaa-432c-a18b-6a81926b0da0",
   "metadata": {},
   "outputs": [],
   "source": [
    "print(\"Shape of the dataset:\")\n",
    "data.shape"
   ]
  },
  {
   "cell_type": "code",
   "execution_count": null,
   "id": "ff4dbf42-2eb8-4e2b-ae86-4593af6e21c1",
   "metadata": {},
   "outputs": [],
   "source": [
    "print(\"available columns and their data types:\")\n",
    "data.dtypes"
   ]
  },
  {
   "cell_type": "code",
   "execution_count": null,
   "id": "7fb7b4fb-83d7-4086-90c8-4177ec56b62f",
   "metadata": {},
   "outputs": [],
   "source": [
    "print(\"Overview of the first 5 rows:\")\n",
    "data.head()"
   ]
  },
  {
   "cell_type": "code",
   "execution_count": null,
   "id": "245a919e-b658-4f31-9b60-e20675eaac1a",
   "metadata": {},
   "outputs": [],
   "source": [
    "print(\"Descriptive statistics:\")\n",
    "data.describe().T"
   ]
  },
  {
   "cell_type": "code",
   "execution_count": null,
   "id": "aee6b6fa-0e20-42c9-a753-884da78d0d1d",
   "metadata": {},
   "outputs": [],
   "source": [
    "# Group by Year and calculate mean CO₂ per capita\n",
    "df_yearly_avg = data.groupby('year')['co2_per_cap'].mean().reset_index()\n",
    "\n",
    "# Plot\n",
    "plt.figure(figsize=(10, 6))\n",
    "sns.lineplot(data=data, x='year', y='co2_per_cap', marker='o')\n",
    "plt.title('Global Average CO₂ Emissions per Capita Over Time')\n",
    "plt.ylabel('CO₂ per Capita (metric tons)')\n",
    "plt.xlabel('Year')\n",
    "plt.grid(True)\n",
    "plt.tight_layout()\n",
    "plt.show()"
   ]
  },
  {
   "cell_type": "code",
   "execution_count": null,
   "id": "d9df0404-999f-49a6-aaa3-4fdc336a5229",
   "metadata": {},
   "outputs": [],
   "source": [
    "# Plot\n",
    "plt.figure(figsize=(10, 6))\n",
    "sns.lineplot(data=data, x='pop', y='co2_ttl', marker='^')\n",
    "plt.title('Total CO₂ Emissions against Population')\n",
    "plt.ylabel('Total CO₂ emissions')\n",
    "plt.xlabel('Population')\n",
    "plt.grid(True)\n",
    "plt.tight_layout()\n",
    "plt.show()"
   ]
  },
  {
   "cell_type": "code",
   "execution_count": null,
   "id": "2a03cac2-42ba-4ae1-b269-65d17ec8930e",
   "metadata": {},
   "outputs": [],
   "source": [
    "# create a column for the total energy use\n",
    "data['en_ttl'] = data['en_per_gdp'] * data['gdp'] /1000"
   ]
  },
  {
   "cell_type": "code",
   "execution_count": null,
   "id": "a3fccf27-ed80-4142-905c-2d7e0f099598",
   "metadata": {},
   "outputs": [],
   "source": [
    "# select all features\n",
    "features_all = data[['country','year','cereal_yield','fdi_perc_gdp','gni_per_cap',\n",
    "                     'en_per_gdp', 'en_per_cap', 'en_ttl', 'co2_ttl', 'co2_per_cap',\n",
    "                     'co2_per_gdp', 'pop_urb_aggl_perc', 'prot_area_perc', 'gdp',\n",
    "                     'pop_growth_perc', 'pop', 'urb_pop_growth_perc']]\n",
    "\n",
    "# plot a correlation of all features\n",
    "# correlation matrix\n",
    "sns.set_theme(font_scale=2)\n",
    "f,ax=plt.subplots(figsize=(30,20))\n",
    "sns.heatmap(features_all.drop(['country'], axis=1).corr(), annot=True, cmap='coolwarm', fmt = \".2f\", \n",
    "            center=0, vmin=-1, vmax=1)\n",
    "plt.title('Correlation between features', fontsize=25, weight='bold' )\n",
    "plt.show()\n",
    "\n",
    "sns.set_theme(font_scale=1)"
   ]
  },
  {
   "cell_type": "code",
   "execution_count": null,
   "id": "70a38314-d9b5-4a58-891f-d175bed2ea9f",
   "metadata": {},
   "outputs": [],
   "source": [
    "features_for_vif = data[['cereal_yield','fdi_perc_gdp','gni_per_cap', 'en_per_cap', 'co2_per_cap',\n",
    "                     'pop_urb_aggl_perc', 'prot_area_perc', 'gdp',  'pop_growth_perc', 'urb_pop_growth_perc']]\n",
    "\n",
    "\n",
    "vif_data = pd.DataFrame()\n",
    "vif_data[\"feature\"] = features_for_vif.columns # Use the columns from the features_for_vif DataFrame\n",
    "vif_data[\"VIF\"] = [variance_inflation_factor(features_for_vif.values, i)\n",
    "                   for i in range(features_for_vif.shape[1])] # Use the values and number of columns from features_for_vif\n",
    "print(vif_data)"
   ]
  },
  {
   "cell_type": "code",
   "execution_count": null,
   "id": "80b10441-07ab-4851-83b0-eefc14a7cda1",
   "metadata": {},
   "outputs": [],
   "source": [
    "features = features_all[['cereal_yield','fdi_perc_gdp','gni_per_cap', 'en_per_cap', 'co2_per_cap',\n",
    "                     'pop_urb_aggl_perc', 'prot_area_perc', 'gdp',  'pop_growth_perc', 'urb_pop_growth_perc']]"
   ]
  },
  {
   "cell_type": "code",
   "execution_count": null,
   "id": "181c9c2e-9c20-42e9-9dbd-86c6be9337b5",
   "metadata": {},
   "outputs": [],
   "source": [
    "# a dictionary with feature labels\n",
    "labels_dict = {'gni_per_cap':'GNI per capita [Atlas $]',\n",
    "               'gdp':'Gross Domestic Product [$]',\n",
    "               'cereal_yield':'Cereal yield [kg/ha]',\n",
    "               'prot_area_perc': 'Nationally terrestrial protected areas [% of total land area]',\n",
    "               'fdi_perc_gdp': 'Foreign Direct Investment [% of GDP]',\n",
    "               'pop_urb_aggl_perc': 'Population in urban agglomerations > 1mln [%]',\n",
    "               'urb_pop_growth_perc':'Urban population growth [annual %]',\n",
    "               'pop_growth_perc': 'Population growth [annual %]',\n",
    "               'co2_per_cap':'CO2 emissions per capita [t]',\n",
    "               'en_per_cap':'Energy use per capita [kg oil eq]' }"
   ]
  },
  {
   "cell_type": "code",
   "execution_count": null,
   "id": "ca569a51-e78f-4416-87dd-ffcbb23a07bc",
   "metadata": {},
   "outputs": [],
   "source": [
    "# get unique values in country column\n",
    "\n",
    "unique_countries = data['country'].unique()\n",
    "unique_countries"
   ]
  },
  {
   "cell_type": "code",
   "execution_count": null,
   "id": "136c5251-0ca1-4af6-aa4b-bc4add49f0bf",
   "metadata": {},
   "outputs": [],
   "source": [
    "# Select countries to compare\n",
    "selected_countries = ['IND', 'USA', 'PAK', 'RUS', 'NZL']\n",
    "\n",
    "# Use the correct DataFrame variable 'data' and column names 'country', 'year', and 'co2_per_cap'\n",
    "df_selected = data[data['country'].isin(selected_countries)]\n",
    "\n",
    "# Plot\n",
    "plt.figure(figsize=(12, 6))\n",
    "# Use the correct DataFrame variable 'df_selected' and column names 'year' and 'co2_per_cap' for plotting\n",
    "sns.lineplot(data=df_selected, x='year', y='co2_per_cap', hue='country', marker='o')\n",
    "plt.title('CO₂ Emissions per Capita Over Time (Selected Countries)')\n",
    "plt.ylabel('CO₂ per Capita (metric tons)')\n",
    "plt.xlabel('Year')\n",
    "plt.legend(title='Country')\n",
    "plt.grid(True)\n",
    "plt.tight_layout()\n",
    "plt.show()"
   ]
  },
  {
   "cell_type": "code",
   "execution_count": null,
   "id": "63b80298-1806-4f6f-bc68-b23884a6227d",
   "metadata": {},
   "outputs": [],
   "source": [
    "# select only rows for half of the countries chosen randomly in order to ensure better visibility\n",
    "chosen_countries=['IND', 'LMC', 'LMY', 'MAR', 'MEX', 'MIC', 'MNA', 'MOZ', 'MYS',\n",
    "'NGA', 'NLD', 'NZL', 'PAK', 'PAN', 'PER', 'PHL', 'PRT', 'PRY',\n",
    "'ROM', 'SAS', 'SAU', 'SDN', 'SEN', 'SLV', 'SSA', 'SWE', 'SYR',\n",
    "'TGO', 'THA', 'TUR', 'TZA', 'UMC', 'URY', 'USA', 'VEN', 'VNM',\n",
    "'WLD', 'ZAF', 'ZAR', 'ZMB', 'ECA', 'POL', 'RUS', 'UKR', 'YEM',\n",
    "'ETH', 'BEL']\n",
    "\n",
    "features_chosen = features_all[features_all['country'].isin(chosen_countries)]"
   ]
  },
  {
   "cell_type": "code",
   "execution_count": null,
   "id": "9b916ccb-3321-4539-bfab-e10f7881173e",
   "metadata": {},
   "outputs": [],
   "source": [
    "sns.set_theme(font_scale=1.3)\n",
    "sns.pairplot(data=features_chosen, hue='country')"
   ]
  },
  {
   "cell_type": "code",
   "execution_count": null,
   "id": "8564ca5f-0f3f-4645-90b1-063eb6796bef",
   "metadata": {},
   "outputs": [],
   "source": [
    "# choose features and label columns\n",
    "feature_cols = ['country', 'cereal_yield','fdi_perc_gdp','gni_per_cap', 'en_per_cap', 'pop_urb_aggl_perc',\n",
    "                    'prot_area_perc', 'gdp',  'pop_growth_perc', 'urb_pop_growth_perc', 'co2_per_cap']\n",
    "\n",
    "# Keep as DataFrame for filtering\n",
    "features_for_plot = data[feature_cols].copy() # Create a copy to avoid SettingWithCopyWarning\n",
    "\n",
    "# remove the ARE outliers from the DataFrame used for plotting\n",
    "features_for_plot = features_for_plot[features_for_plot['country']!='ARE']"
   ]
  },
  {
   "cell_type": "code",
   "execution_count": null,
   "id": "0e7d34ee-99b7-40be-9938-aee1c6e4ac1a",
   "metadata": {},
   "outputs": [],
   "source": [
    "# 4d plot\n",
    "\n",
    "sns.set_theme(style=\"whitegrid\", font_scale=2)\n",
    "\n",
    "cmap = sns.cubehelix_palette(rot=-.2, as_cmap=True)\n",
    "g = sns.relplot(\n",
    "    data=features_for_plot, # Use the DataFrame specifically prepared for plotting\n",
    "    x=\"urb_pop_growth_perc\", y=\"co2_per_cap\",\n",
    "    hue=\"en_per_cap\", size=\"pop_urb_aggl_perc\",\n",
    "    palette=cmap, sizes=(10, 200),\n",
    "    height=10, aspect= 4/3\n",
    ")\n",
    "\n",
    "g.ax.set_xlabel(labels_dict['urb_pop_growth_perc'])\n",
    "g.ax.set_ylabel(labels_dict['co2_per_cap'])"
   ]
  }
 ],
 "metadata": {
  "kernelspec": {
   "display_name": "Python [conda env:base] *",
   "language": "python",
   "name": "conda-base-py"
  },
  "language_info": {
   "codemirror_mode": {
    "name": "ipython",
    "version": 3
   },
   "file_extension": ".py",
   "mimetype": "text/x-python",
   "name": "python",
   "nbconvert_exporter": "python",
   "pygments_lexer": "ipython3",
   "version": "3.11.5"
  }
 },
 "nbformat": 4,
 "nbformat_minor": 5
}
